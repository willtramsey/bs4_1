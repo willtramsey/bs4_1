{
 "cells": [
  {
   "cell_type": "markdown",
   "metadata": {},
   "source": [
    "## Briefings Scrape"
   ]
  },
  {
   "cell_type": "code",
   "execution_count": 128,
   "metadata": {},
   "outputs": [],
   "source": [
    "# from selenium import webdriver\n",
    "# from bs4 import BeautifulSoup\n",
    "\n",
    "# driverpath = \"C:\\\\Users\\\\gwenandtate-office\\\\Downloads\\\\ChromeDriver\\\\chromedriver.exe\"\n",
    "\n",
    "# driver = webdriver.Chrome(driverpath)\n",
    "# driver.get(url)\n",
    "# page = driver.execute_script('return document.body.innerHTML')\n",
    "# soup = BeautifulSoup(''.join(page), 'html.parser')\n",
    "\n",
    "# print(soup.prettify()[0:200])"
   ]
  },
  {
   "cell_type": "code",
   "execution_count": 129,
   "metadata": {},
   "outputs": [],
   "source": [
    "# match = soup.find(\"a\", class_=\"link download-app-link el-button el-button--primary\")\n",
    "# soup.find(\"a\", class_=\"link download-app-link el-button el-button--primary\")"
   ]
  },
  {
   "cell_type": "code",
   "execution_count": 130,
   "metadata": {},
   "outputs": [],
   "source": [
    "# print(type(match))"
   ]
  },
  {
   "cell_type": "code",
   "execution_count": 131,
   "metadata": {},
   "outputs": [],
   "source": [
    "# print(match.get('aria-label'))\n",
    "# print(match.get(\"href\"))"
   ]
  },
  {
   "cell_type": "code",
   "execution_count": null,
   "metadata": {},
   "outputs": [],
   "source": []
  },
  {
   "cell_type": "code",
   "execution_count": 132,
   "metadata": {},
   "outputs": [
    {
     "name": "stdout",
     "output_type": "stream",
     "text": [
      "Please click button to download Cisco Webex Meetings Desktop App\n",
      "https://akamaicdn.webex.com/client/WBXclient-40.9.8-3/webexapp.msi\n"
     ]
    }
   ],
   "source": [
    "from selenium import webdriver\n",
    "from bs4 import BeautifulSoup\n",
    "\n",
    "driverpath = \"C:\\\\Users\\\\gwenandtate-office\\\\Downloads\\\\ChromeDriver\\\\chromedriver.exe\"\n",
    "\n",
    "driver = webdriver.Chrome(driverpath)\n",
    "driver.get(url)\n",
    "page = driver.execute_script('return document.body.innerHTML')\n",
    "soup = BeautifulSoup(''.join(page), 'html.parser')\n",
    "\n",
    "match = soup.find(\"a\", class_=\"link download-app-link el-button el-button--primary\")\n",
    "\n",
    "print(match.get('aria-label'))\n",
    "print(match.get(\"href\"))"
   ]
  }
 ],
 "metadata": {
  "kernelspec": {
   "display_name": "Python 3",
   "language": "python",
   "name": "python3"
  },
  "language_info": {
   "codemirror_mode": {
    "name": "ipython",
    "version": 3
   },
   "file_extension": ".py",
   "mimetype": "text/x-python",
   "name": "python",
   "nbconvert_exporter": "python",
   "pygments_lexer": "ipython3",
   "version": "3.8.5"
  }
 },
 "nbformat": 4,
 "nbformat_minor": 4
}
