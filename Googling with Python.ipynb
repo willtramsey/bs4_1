{
 "cells": [
  {
   "cell_type": "code",
   "execution_count": 4,
   "metadata": {},
   "outputs": [
    {
     "ename": "ImportError",
     "evalue": "cannot import name 'search' from 'googlesearch' (c:\\users\\gwenandtate-office\\appdata\\local\\programs\\python\\python38-32\\lib\\site-packages\\googlesearch\\__init__.py)",
     "output_type": "error",
     "traceback": [
      "\u001b[1;31m---------------------------------------------------------------------------\u001b[0m",
      "\u001b[1;31mImportError\u001b[0m                               Traceback (most recent call last)",
      "\u001b[1;32m<ipython-input-4-807fabe5fbd9>\u001b[0m in \u001b[0;36m<module>\u001b[1;34m\u001b[0m\n\u001b[0;32m      1\u001b[0m \u001b[1;32mfrom\u001b[0m \u001b[0mbs4\u001b[0m \u001b[1;32mimport\u001b[0m \u001b[0mBeautifulSoup\u001b[0m\u001b[1;33m\u001b[0m\u001b[1;33m\u001b[0m\u001b[0m\n\u001b[1;32m----> 2\u001b[1;33m \u001b[1;32mfrom\u001b[0m \u001b[0mgooglesearch\u001b[0m \u001b[1;32mimport\u001b[0m \u001b[0msearch\u001b[0m\u001b[1;33m\u001b[0m\u001b[1;33m\u001b[0m\u001b[0m\n\u001b[0m\u001b[0;32m      3\u001b[0m \u001b[1;32mimport\u001b[0m \u001b[0mrequests\u001b[0m\u001b[1;33m\u001b[0m\u001b[1;33m\u001b[0m\u001b[0m\n",
      "\u001b[1;31mImportError\u001b[0m: cannot import name 'search' from 'googlesearch' (c:\\users\\gwenandtate-office\\appdata\\local\\programs\\python\\python38-32\\lib\\site-packages\\googlesearch\\__init__.py)"
     ]
    }
   ],
   "source": [
    "from bs4 import BeautifulSoup\n",
    "from googlesearch import search\n",
    "import requests"
   ]
  },
  {
   "cell_type": "code",
   "execution_count": null,
   "metadata": {},
   "outputs": [],
   "source": [
    "# name your query and search\n",
    "chapter_desc = 'chapter 15 understanding and managing individual behavior'"
   ]
  },
  {
   "cell_type": "code",
   "execution_count": null,
   "metadata": {},
   "outputs": [],
   "source": [
    "query = chapter_desc +  ' quizlet'\n",
    "print(query)"
   ]
  },
  {
   "cell_type": "code",
   "execution_count": null,
   "metadata": {},
   "outputs": [],
   "source": [
    "for j in search(query, tld=\"co.in\", num=10, stop=3, pause=2): \n",
    "    print(j)"
   ]
  },
  {
   "cell_type": "code",
   "execution_count": null,
   "metadata": {},
   "outputs": [],
   "source": [
    "results = []\n",
    "\n",
    "for j in search(query, tld=\"co.in\", num=10, stop=3, pause=2): \n",
    "    results.append(j)\n",
    "    \n",
    "print(results[0])"
   ]
  },
  {
   "cell_type": "code",
   "execution_count": null,
   "metadata": {},
   "outputs": [],
   "source": [
    "for sites in results:\n",
    "    source = requests.get(sites).text\n",
    "    soup = BeautifulSoup(source)\n",
    "    for block in soup.find_all('div', class_='SetPageTerm-content'):\n",
    "        term_block = block.find('a', class_='SetPageTerm-wordText')\n",
    "        term = term_block.text\n",
    "        print(f'Term: {term}')\n",
    "        \n",
    "        definition_block = block.find('a', class_='SetPageTerm-definitionText')\n",
    "        definition = definition_block.text\n",
    "        print(f'Definition: {definition}')\n",
    "\n",
    "        print()"
   ]
  }
 ],
 "metadata": {
  "kernelspec": {
   "display_name": "Python 3",
   "language": "python",
   "name": "python3"
  },
  "language_info": {
   "codemirror_mode": {
    "name": "ipython",
    "version": 3
   },
   "file_extension": ".py",
   "mimetype": "text/x-python",
   "name": "python",
   "nbconvert_exporter": "python",
   "pygments_lexer": "ipython3",
   "version": "3.8.5"
  }
 },
 "nbformat": 4,
 "nbformat_minor": 2
}
