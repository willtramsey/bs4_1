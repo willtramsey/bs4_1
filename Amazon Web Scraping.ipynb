{
 "cells": [
  {
   "cell_type": "code",
   "execution_count": 11,
   "metadata": {},
   "outputs": [
    {
     "name": "stdout",
     "output_type": "stream",
     "text": [
      "Source Here: https://www.youtube.com/watch?v=Bg9r_yLk7VY&t=0s\n"
     ]
    }
   ],
   "source": [
    "print('Source Here:', 'https://www.youtube.com/watch?v=Bg9r_yLk7VY&t=0s')"
   ]
  },
  {
   "cell_type": "code",
   "execution_count": 12,
   "metadata": {},
   "outputs": [],
   "source": [
    "from bs4 import BeautifulSoup\n",
    "import requests\n",
    "import pandas as pd\n",
    "from googlesearch import search\n",
    "import smtplib\n",
    "import time"
   ]
  },
  {
   "cell_type": "code",
   "execution_count": 23,
   "metadata": {},
   "outputs": [],
   "source": [
    "url = 'https://www.amazon.com/Raiders-of-the-North-Sea/dp/B0721VGFKF/ref=sr_1_1?keywords=raiders+of+the+north+sea&qid=1580311929&sr=8-1'\n",
    "\n",
    "def check_price():\n",
    "    headers = {'User-Agent': 'Mozilla/5.0 (Windows NT 10.0; Win64; x64) AppleWebKit/537.36 (KHTML, like Gecko) Chrome/79.0.3945.130 Safari/537.36'}\n",
    "    page = requests.get(url, headers= headers)\n",
    "    soup1 = BeautifulSoup(page.content, 'html.parser')\n",
    "    soup2 = BeautifulSoup(soup1.prettify(), 'html.parser')\n",
    "    title = soup2.find(id= \"productTitle\").get_text()\n",
    "    print('Product Name: ' + title.strip())\n",
    "    \n",
    "    try:\n",
    "        deal_block = soup2.find(id= 'priceblock_dealprice').get_text()\n",
    "        price = float(deal_block.strip('$'))\n",
    "        print('New Price: ' + str('${:,.2f}'.format(price)))\n",
    "    except:\n",
    "        price_block = soup2.find(id= \"priceblock_ourprice\").get_text()\n",
    "        price = float(price_block.strip('$'))\n",
    "        print('New Price: ' + str('${:,.2f}'.format(price)))\n",
    "        \n",
    "    if price > 40:\n",
    "        send_mail()\n",
    "        \n",
    "google_password = 'ricslkwpngpzmuhl'\n",
    "\n",
    "def send_mail():\n",
    "    # to establish a connection to gmail  (also passing in connection number)\n",
    "    server = smtplib.SMTP('smtp.gmail.com', 587)\n",
    "    # EHLO is a protocol command sent from one email server to another when connecting\n",
    "    server.ehlo()\n",
    "    # starttls will encrypt out connection\n",
    "    server.starttls()\n",
    "    server.ehlo()\n",
    "    \n",
    "    # now loging (user, password)\n",
    "    server.login('pythonprojects4cats@gmail.com', google_password)\n",
    "    \n",
    "    subject = 'Price Fell Down!'\n",
    "    body = 'Check the amazon link: ' + url\n",
    "    \n",
    "    msg = f'Subject: {subject}\\n\\n{body}'\n",
    "    \n",
    "    # server.sendmail() arguments = 'To:' , 'From:' , 'Msg:'\n",
    "    server.sendmail(\n",
    "        'pythonprojects4cats@gmail.com',\n",
    "        ['iamtex123@gmail.com', 'pythonprojects4cats@gmail.com'],\n",
    "        msg\n",
    "    )\n",
    "    \n",
    "    print('Email has been sent')\n",
    "    \n",
    "    server.quit()"
   ]
  },
  {
   "cell_type": "code",
   "execution_count": 24,
   "metadata": {},
   "outputs": [
    {
     "name": "stdout",
     "output_type": "stream",
     "text": [
      "Product Name: Renegade Game Studios Raiders of The North Sea\n",
      "New Price: $38.73\n"
     ]
    }
   ],
   "source": [
    "check_price()"
   ]
  },
  {
   "cell_type": "code",
   "execution_count": null,
   "metadata": {},
   "outputs": [],
   "source": [
    "while(True):\n",
    "    check_price()\n",
    "    time.sleep(86400)"
   ]
  },
  {
   "cell_type": "code",
   "execution_count": null,
   "metadata": {},
   "outputs": [],
   "source": []
  },
  {
   "cell_type": "code",
   "execution_count": 3,
   "metadata": {},
   "outputs": [
    {
     "name": "stdout",
     "output_type": "stream",
     "text": [
      "What item would you like to find on Amazon? bear\n"
     ]
    },
    {
     "ename": "NameError",
     "evalue": "name 'search' is not defined",
     "output_type": "error",
     "traceback": [
      "\u001b[1;31m---------------------------------------------------------------------------\u001b[0m",
      "\u001b[1;31mNameError\u001b[0m                                 Traceback (most recent call last)",
      "\u001b[1;32m<ipython-input-3-7a63d7650c90>\u001b[0m in \u001b[0;36m<module>\u001b[1;34m\u001b[0m\n\u001b[0;32m      5\u001b[0m \u001b[0mresults\u001b[0m \u001b[1;33m=\u001b[0m \u001b[1;33m[\u001b[0m\u001b[1;33m]\u001b[0m\u001b[1;33m\u001b[0m\u001b[1;33m\u001b[0m\u001b[0m\n\u001b[0;32m      6\u001b[0m \u001b[1;33m\u001b[0m\u001b[0m\n\u001b[1;32m----> 7\u001b[1;33m \u001b[1;32mfor\u001b[0m \u001b[0mj\u001b[0m \u001b[1;32min\u001b[0m \u001b[0msearch\u001b[0m\u001b[1;33m(\u001b[0m\u001b[0msearch_query\u001b[0m\u001b[1;33m,\u001b[0m \u001b[0mtld\u001b[0m\u001b[1;33m=\u001b[0m\u001b[1;34m\"co.in\"\u001b[0m\u001b[1;33m,\u001b[0m \u001b[0mnum\u001b[0m\u001b[1;33m=\u001b[0m\u001b[1;36m10\u001b[0m\u001b[1;33m,\u001b[0m \u001b[0mstop\u001b[0m\u001b[1;33m=\u001b[0m\u001b[1;36m1\u001b[0m\u001b[1;33m,\u001b[0m \u001b[0mpause\u001b[0m\u001b[1;33m=\u001b[0m\u001b[1;36m2\u001b[0m\u001b[1;33m)\u001b[0m\u001b[1;33m:\u001b[0m\u001b[1;33m\u001b[0m\u001b[1;33m\u001b[0m\u001b[0m\n\u001b[0m\u001b[0;32m      8\u001b[0m     \u001b[0mresults\u001b[0m\u001b[1;33m.\u001b[0m\u001b[0mappend\u001b[0m\u001b[1;33m(\u001b[0m\u001b[0mj\u001b[0m\u001b[1;33m)\u001b[0m\u001b[1;33m\u001b[0m\u001b[1;33m\u001b[0m\u001b[0m\n\u001b[0;32m      9\u001b[0m \u001b[1;33m\u001b[0m\u001b[0m\n",
      "\u001b[1;31mNameError\u001b[0m: name 'search' is not defined"
     ]
    }
   ],
   "source": [
    "amazon_item = input('What item would you like to find on Amazon? ')\n",
    "\n",
    "search_query = 'Amazon.com ' + amazon_item\n",
    "\n",
    "results = []\n",
    "\n",
    "for j in search(search_query, tld=\"co.in\", num=10, stop=1, pause=2): \n",
    "    results.append(j)\n",
    "    \n",
    "    print(results[0])\n",
    "\n",
    "for sites in results:\n",
    "    headers = {'User-Agent': 'Mozilla/5.0 (Windows NT 10.0; Win64; x64) AppleWebKit/537.36 (KHTML, like Gecko) Chrome/79.0.3945.130 Safari/537.36'}\n",
    "    page = requests.get(results[0], headers= headers)\n",
    "    soup1 = BeautifulSoup(page.content, 'html.parser')\n",
    "    soup2 = BeautifulSoup(soup1.prettify(), 'html.parser')\n",
    "    title = soup2.find(id= \"productTitle\").get_text()\n",
    "    print(title.strip())\n",
    "    try:\n",
    "        deal_block = soup2.find(id= 'priceblock_dealprice').get_text()\n",
    "        price = float(deal_block.strip('$'))\n",
    "        print(price)\n",
    "    except:\n",
    "        price_block = soup2.find(id= \"priceblock_ourprice\").get_text()\n",
    "        price = float(price_block.strip('$'))\n",
    "        print(price)"
   ]
  },
  {
   "cell_type": "code",
   "execution_count": null,
   "metadata": {},
   "outputs": [],
   "source": []
  }
 ],
 "metadata": {
  "kernelspec": {
   "display_name": "Python 3",
   "language": "python",
   "name": "python3"
  },
  "language_info": {
   "codemirror_mode": {
    "name": "ipython",
    "version": 3
   },
   "file_extension": ".py",
   "mimetype": "text/x-python",
   "name": "python",
   "nbconvert_exporter": "python",
   "pygments_lexer": "ipython3",
   "version": "3.8.5"
  }
 },
 "nbformat": 4,
 "nbformat_minor": 2
}
