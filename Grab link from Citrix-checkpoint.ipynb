{
 "cells": [
  {
   "cell_type": "code",
   "execution_count": 27,
   "metadata": {},
   "outputs": [],
   "source": [
    "from selenium import webdriver\n",
    "from bs4 import BeautifulSoup\n",
    "\n",
    "driverpath = \"C:\\\\Users\\\\wramsey\\\\Desktop\\\\python\\\\selenium_driver\\\\chromedriver_win32\\\\chromedriver.exe\""
   ]
  },
  {
   "cell_type": "code",
   "execution_count": 28,
   "metadata": {},
   "outputs": [],
   "source": [
    "driver = webdriver.Chrome(driverpath)\n",
    "url = \"https://www.citrix.com/downloads/workspace-app/mac/workspace-app-for-mac-latest.html\""
   ]
  },
  {
   "cell_type": "code",
   "execution_count": 29,
   "metadata": {},
   "outputs": [],
   "source": [
    "driver.get(url)"
   ]
  },
  {
   "cell_type": "code",
   "execution_count": 30,
   "metadata": {},
   "outputs": [],
   "source": [
    "page = driver.execute_script('return document.body.innerHTML')"
   ]
  },
  {
   "cell_type": "code",
   "execution_count": 31,
   "metadata": {},
   "outputs": [],
   "source": [
    "soup = BeautifulSoup(''.join(page), 'html.parser')"
   ]
  },
  {
   "cell_type": "code",
   "execution_count": 32,
   "metadata": {},
   "outputs": [],
   "source": [
    "#print(soup)"
   ]
  },
  {
   "cell_type": "code",
   "execution_count": 33,
   "metadata": {},
   "outputs": [],
   "source": [
    "match = soup.find(\"a\", class_=\"ctx-dl-link ie10-download-hide promptDw ctx-large-btn ctx-large-blue ctx-no-external\")"
   ]
  },
  {
   "cell_type": "code",
   "execution_count": 34,
   "metadata": {},
   "outputs": [
    {
     "name": "stdout",
     "output_type": "stream",
     "text": [
      "<a class=\"ctx-dl-link ie10-download-hide promptDw ctx-large-btn ctx-large-blue ctx-no-external\" data-authoreula=\"false\" data-secureportal=\"false\" href=\"#ctx-dl-eula\" id=\"downloadcomponentid1\" rel=\"//downloads.citrix.com/18823/CitrixWorkspaceApp.dmg?__gda__=1606880858_49c559fb51452b1c2d83e8a2fcaccf13\">\n",
      "<span>Download Citrix Workspace app for Mac</span>\n",
      "</a>\n"
     ]
    }
   ],
   "source": [
    "print(match)"
   ]
  },
  {
   "cell_type": "code",
   "execution_count": 35,
   "metadata": {},
   "outputs": [
    {
     "name": "stdout",
     "output_type": "stream",
     "text": [
      "//downloads.citrix.com/18823/CitrixWorkspaceApp.dmg?__gda__=1606880858_49c559fb51452b1c2d83e8a2fcaccf13\n"
     ]
    }
   ],
   "source": [
    "print(match.get('rel')[0])"
   ]
  },
  {
   "cell_type": "code",
   "execution_count": 36,
   "metadata": {},
   "outputs": [
    {
     "name": "stdout",
     "output_type": "stream",
     "text": [
      "<class 'str'>\n"
     ]
    }
   ],
   "source": [
    "link = match.get('rel')[0]\n",
    "print(type(link))"
   ]
  },
  {
   "cell_type": "code",
   "execution_count": 39,
   "metadata": {},
   "outputs": [
    {
     "name": "stdout",
     "output_type": "stream",
     "text": [
      "Place the link below into a browser to start download:\n",
      "//downloads.citrix.com/18823/CitrixWorkspaceApp.dmg?__gda__=1606880858_49c559fb51452b1c2d83e8a2fcaccf13\n"
     ]
    }
   ],
   "source": [
    "print(\"Place the link below into a browser to start download:\")\n",
    "print(link)"
   ]
  }
 ],
 "metadata": {
  "kernelspec": {
   "display_name": "Python 3",
   "language": "python",
   "name": "python3"
  },
  "language_info": {
   "codemirror_mode": {
    "name": "ipython",
    "version": 3
   },
   "file_extension": ".py",
   "mimetype": "text/x-python",
   "name": "python",
   "nbconvert_exporter": "python",
   "pygments_lexer": "ipython3",
   "version": "3.9.0"
  }
 },
 "nbformat": 4,
 "nbformat_minor": 4
}
